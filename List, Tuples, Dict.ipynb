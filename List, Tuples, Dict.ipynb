{
 "cells": [
  {
   "cell_type": "markdown",
   "id": "62600dad",
   "metadata": {},
   "source": [
    "# Lists"
   ]
  },
  {
   "cell_type": "code",
   "execution_count": 1,
   "id": "dae29a93",
   "metadata": {},
   "outputs": [],
   "source": [
    "list1 = [1,2,3,4,5,6]\n",
    "list2 = ['Wasi', 'Jawad','Ahmed', 'Ali']\n",
    "list3 = [123,'This is string', 56.25, 'Country', 0.236]\n",
    "sequence = 'This is a squence'"
   ]
  },
  {
   "cell_type": "markdown",
   "id": "ed687206",
   "metadata": {},
   "source": [
    "### List Functions"
   ]
  },
  {
   "cell_type": "code",
   "execution_count": 2,
   "id": "c94dc056",
   "metadata": {},
   "outputs": [
    {
     "data": {
      "text/plain": [
       "5"
      ]
     },
     "execution_count": 2,
     "metadata": {},
     "output_type": "execute_result"
    }
   ],
   "source": [
    "len(list3)  # length of a list"
   ]
  },
  {
   "cell_type": "code",
   "execution_count": 3,
   "id": "9eab6e69",
   "metadata": {},
   "outputs": [
    {
     "data": {
      "text/plain": [
       "6"
      ]
     },
     "execution_count": 3,
     "metadata": {},
     "output_type": "execute_result"
    }
   ],
   "source": [
    "max(list1)   # Max number in a list"
   ]
  },
  {
   "cell_type": "code",
   "execution_count": 4,
   "id": "9d6c3404",
   "metadata": {
    "scrolled": true
   },
   "outputs": [
    {
     "data": {
      "text/plain": [
       "1"
      ]
     },
     "execution_count": 4,
     "metadata": {},
     "output_type": "execute_result"
    }
   ],
   "source": [
    "min(list1)   # Min number in a list"
   ]
  },
  {
   "cell_type": "code",
   "execution_count": 5,
   "id": "5ddf3b7b",
   "metadata": {},
   "outputs": [
    {
     "data": {
      "text/plain": [
       "['T',\n",
       " 'h',\n",
       " 'i',\n",
       " 's',\n",
       " ' ',\n",
       " 'i',\n",
       " 's',\n",
       " ' ',\n",
       " 'a',\n",
       " ' ',\n",
       " 's',\n",
       " 'q',\n",
       " 'u',\n",
       " 'e',\n",
       " 'n',\n",
       " 'c',\n",
       " 'e']"
      ]
     },
     "execution_count": 5,
     "metadata": {},
     "output_type": "execute_result"
    }
   ],
   "source": [
    "list(sequence)  # We can pass the sequence and make it a list"
   ]
  },
  {
   "cell_type": "markdown",
   "id": "a1dbfee9",
   "metadata": {},
   "source": [
    "### List Methods"
   ]
  },
  {
   "cell_type": "code",
   "execution_count": 6,
   "id": "7a27bc57",
   "metadata": {},
   "outputs": [
    {
     "data": {
      "text/plain": [
       "[123, 'This is string', 56.25, 'Country', 0.236, 'Append']"
      ]
     },
     "execution_count": 6,
     "metadata": {},
     "output_type": "execute_result"
    }
   ],
   "source": [
    "list3.append('Append')    #Append in the list\n",
    "list3"
   ]
  },
  {
   "cell_type": "code",
   "execution_count": 7,
   "id": "e3af253e",
   "metadata": {},
   "outputs": [
    {
     "data": {
      "text/plain": [
       "1"
      ]
     },
     "execution_count": 7,
     "metadata": {},
     "output_type": "execute_result"
    }
   ],
   "source": [
    "list3.count(123)   #Counts a specific number in a list"
   ]
  },
  {
   "cell_type": "code",
   "execution_count": 8,
   "id": "23ee4254",
   "metadata": {},
   "outputs": [
    {
     "data": {
      "text/plain": [
       "['Wasi',\n",
       " 'Jawad',\n",
       " 'Ahmed',\n",
       " 'Ali',\n",
       " 'T',\n",
       " 'h',\n",
       " 'i',\n",
       " 's',\n",
       " ' ',\n",
       " 'i',\n",
       " 's',\n",
       " ' ',\n",
       " 'a',\n",
       " ' ',\n",
       " 's',\n",
       " 'q',\n",
       " 'u',\n",
       " 'e',\n",
       " 'n',\n",
       " 'c',\n",
       " 'e']"
      ]
     },
     "execution_count": 8,
     "metadata": {},
     "output_type": "execute_result"
    }
   ],
   "source": [
    "list2.extend(sequence)   # extends a sequence in a existing list\n",
    "list2"
   ]
  },
  {
   "cell_type": "code",
   "execution_count": 9,
   "id": "db51847e",
   "metadata": {},
   "outputs": [
    {
     "data": {
      "text/plain": [
       "2"
      ]
     },
     "execution_count": 9,
     "metadata": {},
     "output_type": "execute_result"
    }
   ],
   "source": [
    "list2.index('Ahmed')  # Tells the index of a specific element in a list"
   ]
  },
  {
   "cell_type": "code",
   "execution_count": 10,
   "id": "5de13795",
   "metadata": {},
   "outputs": [
    {
     "data": {
      "text/plain": [
       "[123, 'This is string', 56.25, 'inserted element', 'Country', 0.236, 'Append']"
      ]
     },
     "execution_count": 10,
     "metadata": {},
     "output_type": "execute_result"
    }
   ],
   "source": [
    "list3.insert(3,'inserted element')   # insert an object in a list\n",
    "list3"
   ]
  },
  {
   "cell_type": "code",
   "execution_count": 11,
   "id": "760c8b02",
   "metadata": {},
   "outputs": [
    {
     "data": {
      "text/plain": [
       "[123, 'This is string', 56.25, 'inserted element', 'Country', 0.236]"
      ]
     },
     "execution_count": 11,
     "metadata": {},
     "output_type": "execute_result"
    }
   ],
   "source": [
    "list3.pop()  # pops out the last entry\n",
    "list3"
   ]
  },
  {
   "cell_type": "code",
   "execution_count": 12,
   "id": "9e054860",
   "metadata": {},
   "outputs": [
    {
     "data": {
      "text/plain": [
       "['Wasi',\n",
       " 'Jawad',\n",
       " 'Ahmed',\n",
       " 'T',\n",
       " 'h',\n",
       " 'i',\n",
       " 's',\n",
       " ' ',\n",
       " 'i',\n",
       " 's',\n",
       " ' ',\n",
       " 'a',\n",
       " ' ',\n",
       " 's',\n",
       " 'q',\n",
       " 'u',\n",
       " 'e',\n",
       " 'n',\n",
       " 'c',\n",
       " 'e']"
      ]
     },
     "execution_count": 12,
     "metadata": {},
     "output_type": "execute_result"
    }
   ],
   "source": [
    "list2.remove('Ali')  # Deletes the specific element in a list\n",
    "list2"
   ]
  },
  {
   "cell_type": "code",
   "execution_count": 13,
   "id": "c367cb41",
   "metadata": {},
   "outputs": [
    {
     "data": {
      "text/plain": [
       "[6, 5, 4, 3, 2, 1]"
      ]
     },
     "execution_count": 13,
     "metadata": {},
     "output_type": "execute_result"
    }
   ],
   "source": [
    "list1.reverse()  #Reverses the numeric list\n",
    "list1"
   ]
  },
  {
   "cell_type": "code",
   "execution_count": 14,
   "id": "a7f8b8cb",
   "metadata": {},
   "outputs": [
    {
     "data": {
      "text/plain": [
       "[1, 2, 3, 4, 5, 6]"
      ]
     },
     "execution_count": 14,
     "metadata": {},
     "output_type": "execute_result"
    }
   ],
   "source": [
    "list1.sort()  # Sorts the list\n",
    "list1"
   ]
  },
  {
   "cell_type": "markdown",
   "id": "bb62e16a",
   "metadata": {},
   "source": [
    "### Two Dimensional Lists"
   ]
  },
  {
   "cell_type": "code",
   "execution_count": 15,
   "id": "8ee42ea5",
   "metadata": {},
   "outputs": [],
   "source": [
    "TwoDimenList = [[1,2,3],[4,5,6],[7,8,9]]"
   ]
  },
  {
   "cell_type": "code",
   "execution_count": 16,
   "id": "8fcee3a1",
   "metadata": {},
   "outputs": [
    {
     "name": "stdout",
     "output_type": "stream",
     "text": [
      "1 2 3 \n",
      "4 5 6 \n",
      "7 8 9 \n"
     ]
    }
   ],
   "source": [
    "for list in TwoDimenList:\n",
    "    for item in list:\n",
    "        print(item, end=\" \")\n",
    "    print()"
   ]
  },
  {
   "cell_type": "markdown",
   "id": "d30e8b23",
   "metadata": {},
   "source": [
    "# Tuples"
   ]
  },
  {
   "cell_type": "code",
   "execution_count": 17,
   "id": "30d28909",
   "metadata": {},
   "outputs": [],
   "source": [
    "tup1 = (1,2,3,4,5,6)\n",
    "tup2 = ('Wasi', 'Jawad','Ahmed', 'Ali')\n",
    "tup3 = (123,'This is string', 56.25, 'Country', 0.236)\n",
    "seq = 'This is a squence'"
   ]
  },
  {
   "cell_type": "markdown",
   "id": "f1af1575",
   "metadata": {},
   "source": [
    "### Tuple Functions"
   ]
  },
  {
   "cell_type": "code",
   "execution_count": 18,
   "id": "0459d204",
   "metadata": {},
   "outputs": [
    {
     "data": {
      "text/plain": [
       "6"
      ]
     },
     "execution_count": 18,
     "metadata": {},
     "output_type": "execute_result"
    }
   ],
   "source": [
    "len(tup1)  # Length of a tuple"
   ]
  },
  {
   "cell_type": "code",
   "execution_count": 19,
   "id": "8954e6fe",
   "metadata": {},
   "outputs": [
    {
     "data": {
      "text/plain": [
       "6"
      ]
     },
     "execution_count": 19,
     "metadata": {},
     "output_type": "execute_result"
    }
   ],
   "source": [
    "max(tup1)   # Max number in a tuple"
   ]
  },
  {
   "cell_type": "code",
   "execution_count": 20,
   "id": "6654a951",
   "metadata": {},
   "outputs": [
    {
     "data": {
      "text/plain": [
       "1"
      ]
     },
     "execution_count": 20,
     "metadata": {},
     "output_type": "execute_result"
    }
   ],
   "source": [
    "min(tup1)   # Min number in a tuple"
   ]
  },
  {
   "cell_type": "code",
   "execution_count": 21,
   "id": "34aed1c4",
   "metadata": {},
   "outputs": [
    {
     "data": {
      "text/plain": [
       "(123, 'This is string', 56.25, 'inserted element', 'Country', 0.236)"
      ]
     },
     "execution_count": 21,
     "metadata": {},
     "output_type": "execute_result"
    }
   ],
   "source": [
    "tuple(list3)  # We can pass the sequence and make it a tuple"
   ]
  },
  {
   "cell_type": "markdown",
   "id": "d58ac2dc",
   "metadata": {},
   "source": [
    "# Dictionaries"
   ]
  },
  {
   "cell_type": "code",
   "execution_count": 22,
   "id": "4e1388ef",
   "metadata": {},
   "outputs": [],
   "source": [
    "Dict1 = {'Book': 'Sherlock', 'Author': 'Arthur Conan', 'Chapters': 12, 'Pages': 850}"
   ]
  },
  {
   "cell_type": "markdown",
   "id": "1c11c307",
   "metadata": {},
   "source": [
    "### Dictionary Functions"
   ]
  },
  {
   "cell_type": "code",
   "execution_count": 23,
   "id": "c9d1eb43",
   "metadata": {},
   "outputs": [
    {
     "data": {
      "text/plain": [
       "{'Book': 'Sherlock', 'Author': 'Arthur Conan', 'Chapters': 12}"
      ]
     },
     "execution_count": 23,
     "metadata": {},
     "output_type": "execute_result"
    }
   ],
   "source": [
    "del Dict1['Pages']   # Deletes the key\n",
    "Dict1"
   ]
  },
  {
   "cell_type": "code",
   "execution_count": 24,
   "id": "5e4543eb",
   "metadata": {},
   "outputs": [
    {
     "data": {
      "text/plain": [
       "3"
      ]
     },
     "execution_count": 24,
     "metadata": {},
     "output_type": "execute_result"
    }
   ],
   "source": [
    "len(Dict1)  # Length of dictionary"
   ]
  },
  {
   "cell_type": "code",
   "execution_count": 25,
   "id": "52c643c2",
   "metadata": {},
   "outputs": [
    {
     "data": {
      "text/plain": [
       "\"{'Book': 'Sherlock', 'Author': 'Arthur Conan', 'Chapters': 12}\""
      ]
     },
     "execution_count": 25,
     "metadata": {},
     "output_type": "execute_result"
    }
   ],
   "source": [
    "str(Dict1)   # Dictionary in the form of a string"
   ]
  },
  {
   "cell_type": "code",
   "execution_count": 26,
   "id": "fd9eeb90",
   "metadata": {},
   "outputs": [
    {
     "data": {
      "text/plain": [
       "dict"
      ]
     },
     "execution_count": 26,
     "metadata": {},
     "output_type": "execute_result"
    }
   ],
   "source": [
    "type(Dict1)  # Checking Type"
   ]
  },
  {
   "cell_type": "code",
   "execution_count": 27,
   "id": "7b5ea520",
   "metadata": {},
   "outputs": [
    {
     "data": {
      "text/plain": [
       "dict_items([('Book', 'Sherlock'), ('Author', 'Arthur Conan'), ('Chapters', 12)])"
      ]
     },
     "execution_count": 27,
     "metadata": {},
     "output_type": "execute_result"
    }
   ],
   "source": [
    "Dict1.items()  # Printing items of dictionary"
   ]
  },
  {
   "cell_type": "code",
   "execution_count": 28,
   "id": "d3b6192e",
   "metadata": {},
   "outputs": [
    {
     "data": {
      "text/plain": [
       "dict_values(['Sherlock', 'Arthur Conan', 12])"
      ]
     },
     "execution_count": 28,
     "metadata": {},
     "output_type": "execute_result"
    }
   ],
   "source": [
    "Dict1.keys()  #Printing Keys of a dictionary\n",
    "Dict1.values()  #Printing Values of a dictionary"
   ]
  },
  {
   "cell_type": "code",
   "execution_count": 29,
   "id": "4ce0ee96",
   "metadata": {},
   "outputs": [
    {
     "data": {
      "text/plain": [
       "True"
      ]
     },
     "execution_count": 29,
     "metadata": {},
     "output_type": "execute_result"
    }
   ],
   "source": [
    "'Book'in Dict1    #Checking keys and values in a dictionary"
   ]
  },
  {
   "cell_type": "markdown",
   "id": "53105759",
   "metadata": {},
   "source": [
    "#### For loop in  a dictionary"
   ]
  },
  {
   "cell_type": "code",
   "execution_count": 30,
   "id": "6c8890e7",
   "metadata": {},
   "outputs": [
    {
     "name": "stdout",
     "output_type": "stream",
     "text": [
      "Book\n",
      "Author\n",
      "Chapters\n",
      "Pages\n"
     ]
    }
   ],
   "source": [
    "Dict1 = {'Book': 'Sherlock', 'Author': 'Arthur Conan', 'Chapters': 12, 'Pages': 850}\n",
    "for item in Dict1:\n",
    "    print(item)"
   ]
  },
  {
   "cell_type": "code",
   "execution_count": 31,
   "id": "cad5d06a",
   "metadata": {},
   "outputs": [
    {
     "name": "stdout",
     "output_type": "stream",
     "text": [
      "Book : Sherlock\n",
      "Author : Arthur Conan\n",
      "Chapters : 12\n",
      "Pages : 850\n"
     ]
    }
   ],
   "source": [
    "for item in Dict1:\n",
    "    print(item, \":\", Dict1[item])"
   ]
  },
  {
   "cell_type": "code",
   "execution_count": 32,
   "id": "a46034cc",
   "metadata": {},
   "outputs": [
    {
     "name": "stdout",
     "output_type": "stream",
     "text": [
      "('Book', 'Sherlock') type['Book', 'Sherlock']\n",
      "('Author', 'Arthur Conan') type['Author', 'Arthur Conan']\n",
      "('Chapters', 12) type['Chapters', 12]\n",
      "('Pages', 850) type['Pages', 850]\n"
     ]
    }
   ],
   "source": [
    "for item in Dict1.items():\n",
    "    print(item, type[item])"
   ]
  },
  {
   "cell_type": "code",
   "execution_count": 33,
   "id": "e9e0508f",
   "metadata": {},
   "outputs": [
    {
     "name": "stdout",
     "output_type": "stream",
     "text": [
      "Book : Sherlock\n",
      "Author : Arthur Conan\n",
      "Chapters : 12\n",
      "Pages : 850\n"
     ]
    }
   ],
   "source": [
    "for keys,values in Dict1.items():\n",
    "    print(keys, \":\", values)"
   ]
  }
 ],
 "metadata": {
  "kernelspec": {
   "display_name": "Python 3 (ipykernel)",
   "language": "python",
   "name": "python3"
  },
  "language_info": {
   "codemirror_mode": {
    "name": "ipython",
    "version": 3
   },
   "file_extension": ".py",
   "mimetype": "text/x-python",
   "name": "python",
   "nbconvert_exporter": "python",
   "pygments_lexer": "ipython3",
   "version": "3.10.6"
  }
 },
 "nbformat": 4,
 "nbformat_minor": 5
}
