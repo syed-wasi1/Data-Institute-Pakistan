{
 "cells": [
  {
   "cell_type": "markdown",
   "id": "2f9bb148",
   "metadata": {},
   "source": [
    "# Functions"
   ]
  },
  {
   "cell_type": "code",
   "execution_count": 52,
   "id": "819c8178",
   "metadata": {},
   "outputs": [],
   "source": [
    "def add(num1,num2):\n",
    "    print(num1+num2)\n",
    "    return\n",
    "def add1(num1=0,num2=0):\n",
    "    return num1+num2"
   ]
  },
  {
   "cell_type": "code",
   "execution_count": 53,
   "id": "c416c84d",
   "metadata": {},
   "outputs": [
    {
     "name": "stdout",
     "output_type": "stream",
     "text": [
      "5\n",
      "None\n"
     ]
    }
   ],
   "source": [
    "print(add(2,3))"
   ]
  },
  {
   "cell_type": "code",
   "execution_count": 58,
   "id": "850ed34d",
   "metadata": {},
   "outputs": [
    {
     "name": "stdout",
     "output_type": "stream",
     "text": [
      "0\n"
     ]
    }
   ],
   "source": [
    "print(add1())"
   ]
  },
  {
   "cell_type": "markdown",
   "id": "bc959732",
   "metadata": {},
   "source": [
    "### Excerise (Adding items of list)"
   ]
  },
  {
   "cell_type": "code",
   "execution_count": 16,
   "id": "3634832a",
   "metadata": {},
   "outputs": [
    {
     "name": "stdout",
     "output_type": "stream",
     "text": [
      "28\n"
     ]
    }
   ],
   "source": [
    "def addingList(list):\n",
    "    dummy = 0\n",
    "    for item in list:\n",
    "        dummy=dummy+item\n",
    "    return dummy\n",
    "list = [1,2,3,4,5,6,7]\n",
    "print(addingList(list))"
   ]
  },
  {
   "cell_type": "markdown",
   "id": "abb9adb2",
   "metadata": {},
   "source": [
    "### Using Args"
   ]
  },
  {
   "cell_type": "code",
   "execution_count": 23,
   "id": "0b5df4b5",
   "metadata": {},
   "outputs": [
    {
     "name": "stdout",
     "output_type": "stream",
     "text": [
      "26\n"
     ]
    }
   ],
   "source": [
    "def addingList1(*args):\n",
    "    dummy = 0\n",
    "    for item in args:\n",
    "        dummy = dummy + item\n",
    "    return dummy\n",
    "\n",
    "print(addingList1(5,6,7,8))"
   ]
  },
  {
   "cell_type": "markdown",
   "id": "d2dc8f29",
   "metadata": {},
   "source": [
    "## Generator Functions"
   ]
  },
  {
   "cell_type": "code",
   "execution_count": 35,
   "id": "4f6d7256",
   "metadata": {},
   "outputs": [
    {
     "name": "stdout",
     "output_type": "stream",
     "text": [
      "First Element\n",
      "1\n",
      "Second Element\n",
      "2\n",
      "Third Element\n",
      "3\n"
     ]
    }
   ],
   "source": [
    "def mygen():\n",
    "    print(\"First Element\")\n",
    "    yield 1\n",
    "    print(\"Second Element\")\n",
    "    yield 2\n",
    "    print(\"Third Element\")\n",
    "    yield 3\n",
    "gen = mygen()\n",
    "print(next(gen))\n",
    "print(next(gen))\n",
    "print(next(gen))"
   ]
  },
  {
   "cell_type": "code",
   "execution_count": 46,
   "id": "55608a55",
   "metadata": {},
   "outputs": [
    {
     "name": "stdout",
     "output_type": "stream",
     "text": [
      "Next on gen called 0\n",
      "Next on gen called 1\n",
      "Next on gen called 8\n",
      "Next on gen called 27\n",
      "Can't Handle this error... breaking...\n"
     ]
    }
   ],
   "source": [
    "def mygen1(val):\n",
    "    for item in range(val):\n",
    "        yield item**3\n",
    "    return\n",
    "gen1 = mygen1(4)\n",
    "while True:\n",
    "    try:\n",
    "        print(\"Next on gen called\", next(gen1))\n",
    "    except StopIteration:\n",
    "        print(\"Can't Handle this error... breaking...\")\n",
    "        break"
   ]
  },
  {
   "cell_type": "markdown",
   "id": "16a7b446",
   "metadata": {},
   "source": [
    "### Alternate Method (Proper way of using)"
   ]
  },
  {
   "cell_type": "code",
   "execution_count": 7,
   "id": "ed888577",
   "metadata": {},
   "outputs": [
    {
     "name": "stdout",
     "output_type": "stream",
     "text": [
      "Next on gen called 0\n",
      "Next on gen called 1\n",
      "Next on gen called 8\n",
      "Next on gen called 27\n",
      "Can't Handle this error... breaking...\n"
     ]
    }
   ],
   "source": [
    "cubes = (x**3 for x in range(4))\n",
    "while True:\n",
    "    try:\n",
    "        print(\"Next on gen called\", next(cubes))\n",
    "    except StopIteration:\n",
    "        print(\"Can't Handle this error... breaking...\")\n",
    "        break"
   ]
  },
  {
   "cell_type": "markdown",
   "id": "c5e28660",
   "metadata": {},
   "source": [
    "### Importing Maths library"
   ]
  },
  {
   "cell_type": "code",
   "execution_count": 51,
   "id": "c18723d3",
   "metadata": {
    "scrolled": true
   },
   "outputs": [
    {
     "name": "stdout",
     "output_type": "stream",
     "text": [
      "36\n"
     ]
    }
   ],
   "source": [
    "import math\n",
    "print(sum(x**3 for x in range(4)))"
   ]
  },
  {
   "cell_type": "markdown",
   "id": "badb4e68",
   "metadata": {},
   "source": [
    "#### If nothing is returned then None is printed"
   ]
  },
  {
   "cell_type": "code",
   "execution_count": 61,
   "id": "6051d847",
   "metadata": {},
   "outputs": [
    {
     "name": "stdout",
     "output_type": "stream",
     "text": [
      "Pass\n",
      "None\n"
     ]
    }
   ],
   "source": [
    "def fun():\n",
    "    print(\"Pass\")\n",
    "print(fun())"
   ]
  },
  {
   "cell_type": "markdown",
   "id": "042323d8",
   "metadata": {},
   "source": [
    "### Even and Odd"
   ]
  },
  {
   "cell_type": "code",
   "execution_count": 63,
   "id": "c1c68264",
   "metadata": {},
   "outputs": [
    {
     "name": "stdout",
     "output_type": "stream",
     "text": [
      "True\n",
      "False\n"
     ]
    }
   ],
   "source": [
    "def returning(val):\n",
    "    if val%2==0:\n",
    "        return True\n",
    "    else:\n",
    "        return False\n",
    "print(returning(2))\n",
    "print(returning(1))"
   ]
  },
  {
   "cell_type": "markdown",
   "id": "247f35df",
   "metadata": {},
   "source": [
    "#### returning multiple values"
   ]
  },
  {
   "cell_type": "code",
   "execution_count": 66,
   "id": "5fac309c",
   "metadata": {},
   "outputs": [
    {
     "name": "stdout",
     "output_type": "stream",
     "text": [
      "('a', 'b', 'c')\n",
      "<class 'tuple'>\n"
     ]
    }
   ],
   "source": [
    "def returning():\n",
    "    return 'a','b','c'\n",
    "print(returning())\n",
    "print(type(returning()))"
   ]
  },
  {
   "cell_type": "markdown",
   "id": "2ac945f9",
   "metadata": {},
   "source": [
    "### Converting Generator objects into tuple"
   ]
  },
  {
   "cell_type": "code",
   "execution_count": 5,
   "id": "1ddd6ce6",
   "metadata": {},
   "outputs": [
    {
     "name": "stdout",
     "output_type": "stream",
     "text": [
      "[0, 1, 2, 3, 4] [5, 6]\n"
     ]
    }
   ],
   "source": [
    "val = (x for x in range(5))\n",
    "def fun():\n",
    "    yield 5\n",
    "    yield 6\n",
    "b = fun()\n",
    "\n",
    "list1 = list(val)\n",
    "list2= list(b)\n",
    "print(list1,list2)\n"
   ]
  },
  {
   "cell_type": "markdown",
   "id": "307dec09",
   "metadata": {},
   "source": [
    "## OOP"
   ]
  },
  {
   "cell_type": "code",
   "execution_count": 74,
   "id": "ef8df036",
   "metadata": {},
   "outputs": [
    {
     "name": "stdout",
     "output_type": "stream",
     "text": [
      "This is funny function\n",
      "This is activity function\n",
      "This is type function\n"
     ]
    }
   ],
   "source": [
    "class Fun():\n",
    "    def funny(self):\n",
    "        print(\"This is funny function\")\n",
    "    def activity(self):\n",
    "        print(\"This is activity function\")\n",
    "    def type(self):\n",
    "        print(\"This is type function\")\n",
    "item = Fun()\n",
    "\n",
    "item.funny()\n",
    "item.activity()\n",
    "item.type()"
   ]
  },
  {
   "cell_type": "markdown",
   "id": "bb7c4800",
   "metadata": {},
   "source": [
    "### Converting into list"
   ]
  },
  {
   "cell_type": "code",
   "execution_count": 1,
   "id": "00d150fc",
   "metadata": {},
   "outputs": [
    {
     "name": "stdout",
     "output_type": "stream",
     "text": [
      "[0, 1, 2, 3] [5, 6]\n"
     ]
    }
   ],
   "source": [
    "val = (x for x in range(4))\n",
    "def fun():\n",
    "    yield 5\n",
    "    yield 6\n",
    "    \n",
    "b = fun()\n",
    "list1 = [*val]\n",
    "list2 = [*b]\n",
    "print(list1,list2)"
   ]
  },
  {
   "cell_type": "markdown",
   "id": "57abb7fb",
   "metadata": {},
   "source": [
    "### Quiz Q1"
   ]
  },
  {
   "cell_type": "code",
   "execution_count": 56,
   "id": "ab718a15",
   "metadata": {},
   "outputs": [
    {
     "name": "stdout",
     "output_type": "stream",
     "text": [
      "[0, 1, 1, 2, 3, 5, 8, 13, 21, 34, 55, 89, 144, 233, 377, 610, 987, 1597, 2584, 4181]\n"
     ]
    }
   ],
   "source": [
    "def fibonacci(val):\n",
    "    dummy = [0,1]\n",
    "    for x in range(2,val):\n",
    "        fib = dummy[x-1]+dummy[x-2]\n",
    "        dummy.append(fib)\n",
    "    return list(dummy)\n",
    "\n",
    "print(fibonacci(20))"
   ]
  },
  {
   "cell_type": "markdown",
   "id": "63733d18",
   "metadata": {},
   "source": [
    "### Quiz Q2"
   ]
  },
  {
   "cell_type": "code",
   "execution_count": 40,
   "id": "8c136907",
   "metadata": {
    "scrolled": true
   },
   "outputs": [
    {
     "name": "stdout",
     "output_type": "stream",
     "text": [
      "[0, 1, 8, 27, 64, 125]\n"
     ]
    }
   ],
   "source": [
    "cubes = (x**3 for x in range(6))\n",
    "print (list(cubes))"
   ]
  },
  {
   "cell_type": "markdown",
   "id": "5117f90e",
   "metadata": {},
   "source": [
    "### Quiz Q3"
   ]
  },
  {
   "cell_type": "code",
   "execution_count": 52,
   "id": "0b5223c6",
   "metadata": {},
   "outputs": [
    {
     "name": "stdout",
     "output_type": "stream",
     "text": [
      "This is Child class\n",
      "This is Parent class\n",
      "This is GrandParent class\n"
     ]
    }
   ],
   "source": [
    "class GrandParent:\n",
    "    def Class(self):\n",
    "        print(\"This is GrandParent class\")\n",
    "\n",
    "class Parent(GrandParent):\n",
    "    def Class1(self):\n",
    "        print(\"This is Parent class\")\n",
    "\n",
    "class Child(Parent):\n",
    "    def Class2(self):\n",
    "        print(\"This is Child class\")\n",
    "\n",
    "obj = Child()\n",
    "obj.Class2()\n",
    "obj.Class1()\n",
    "obj.Class()"
   ]
  },
  {
   "cell_type": "markdown",
   "id": "479736ff",
   "metadata": {},
   "source": [
    "### Quiz Q4"
   ]
  },
  {
   "cell_type": "code",
   "execution_count": 79,
   "id": "29281fa9",
   "metadata": {},
   "outputs": [
    {
     "name": "stdout",
     "output_type": "stream",
     "text": [
      "Enter Height: 5\n",
      "Enter Base: 6\n",
      "Area is: 15.0\n"
     ]
    }
   ],
   "source": [
    "# Area of a Triangle (0.5*base*height)\n",
    "class Height:\n",
    "    def height(self):\n",
    "        return int(input(\"Enter Height: \"))\n",
    "class Base: \n",
    "    def base(self):\n",
    "        return int(input(\"Enter Base: \"))\n",
    "class Area(Height, Base):\n",
    "    def area(self,base1,height1):\n",
    "        print(f\"Area is: {0.5*base1*height1}\")\n",
    "polygon = Area()\n",
    "h=polygon.height()\n",
    "b=polygon.base()\n",
    "polygon.area(h,b)"
   ]
  },
  {
   "cell_type": "markdown",
   "id": "135d4b04",
   "metadata": {},
   "source": [
    "### Q5 using Polymorphism create two classes cat and dog"
   ]
  },
  {
   "cell_type": "markdown",
   "id": "7dcedd3f",
   "metadata": {},
   "source": [
    "### Example (Adding letters of name using ASCII)"
   ]
  },
  {
   "cell_type": "code",
   "execution_count": 83,
   "id": "5925dbf9",
   "metadata": {},
   "outputs": [
    {
     "name": "stdout",
     "output_type": "stream",
     "text": [
      "404\n"
     ]
    }
   ],
   "source": [
    "Name = [ord(x) for x in 'Wasi']\n",
    "print (sum(Name))"
   ]
  },
  {
   "cell_type": "markdown",
   "id": "7c4fd52f",
   "metadata": {},
   "source": [
    "### Example (Adding if statement)"
   ]
  },
  {
   "cell_type": "code",
   "execution_count": 93,
   "id": "cb099fd9",
   "metadata": {},
   "outputs": [
    {
     "name": "stdout",
     "output_type": "stream",
     "text": [
      "[0, 2, 4, 6, 8, 10]\n"
     ]
    }
   ],
   "source": [
    "even = [x for x in range(12) if x%2==0]\n",
    "print(even)"
   ]
  },
  {
   "cell_type": "markdown",
   "id": "efd823a4",
   "metadata": {},
   "source": [
    "### Celcius to Fahrenheit"
   ]
  },
  {
   "cell_type": "code",
   "execution_count": 95,
   "id": "06c0fbfa",
   "metadata": {},
   "outputs": [
    {
     "name": "stdout",
     "output_type": "stream",
     "text": [
      "[50.0, 99.5, 150.8, 77.0, 86.0]\n"
     ]
    }
   ],
   "source": [
    "celsius = [10,37.5,66,25,30]\n",
    "Fahrenheit = [(9/5)*x + 32 for x in celsius]\n",
    "print(Fahrenheit)"
   ]
  },
  {
   "cell_type": "markdown",
   "id": "5ef66864",
   "metadata": {},
   "source": [
    "### Nested comprehension statement"
   ]
  },
  {
   "cell_type": "code",
   "execution_count": 96,
   "id": "5c595a0f",
   "metadata": {},
   "outputs": [
    {
     "name": "stdout",
     "output_type": "stream",
     "text": [
      "[0, 1, 16, 81, 256, 625, 1296, 2401, 4096, 6561, 10000]\n"
     ]
    }
   ],
   "source": [
    "Nested = [x**2 for x in [x**2 for x in range(11)]]\n",
    "print(Nested)"
   ]
  },
  {
   "cell_type": "markdown",
   "id": "9198c558",
   "metadata": {},
   "source": [
    "### Examples of  '_ _add_ _ ' function in python classes"
   ]
  },
  {
   "cell_type": "code",
   "execution_count": 5,
   "id": "e4688328",
   "metadata": {},
   "outputs": [
    {
     "name": "stdout",
     "output_type": "stream",
     "text": [
      "This is a Python Class\n"
     ]
    }
   ],
   "source": [
    "class python:\n",
    "    def __init__(self, val):\n",
    "        self.val=val\n",
    "    def __add__(self,val1):\n",
    "        return python(self.val+val1.val)\n",
    "obj1 = python(\"This is a \")\n",
    "obj2 = python(\"Python Class\")\n",
    "obj3 = obj1 + obj2\n",
    "print(obj3.val)"
   ]
  },
  {
   "cell_type": "code",
   "execution_count": 102,
   "id": "eb83fdbc",
   "metadata": {},
   "outputs": [
    {
     "name": "stdout",
     "output_type": "stream",
     "text": [
      "Wasi 23\n",
      "Wasi 23\n",
      "Wasi 23\n",
      "Wasi 23\n"
     ]
    }
   ],
   "source": [
    "class Myinfo:\n",
    "    def __init__(self,name,age):\n",
    "        self.name=name\n",
    "        self.age=age\n",
    "    def __repr__(self):\n",
    "        return self.name + \" \" + str(self.age)\n",
    "me = Myinfo(\"Wasi\",23)\n",
    "print(me.__str__())\n",
    "print(me)\n",
    "print(str(me))\n",
    "print(me.__repr__())"
   ]
  },
  {
   "cell_type": "code",
   "execution_count": null,
   "id": "580bba67",
   "metadata": {},
   "outputs": [],
   "source": []
  }
 ],
 "metadata": {
  "kernelspec": {
   "display_name": "Python 3 (ipykernel)",
   "language": "python",
   "name": "python3"
  },
  "language_info": {
   "codemirror_mode": {
    "name": "ipython",
    "version": 3
   },
   "file_extension": ".py",
   "mimetype": "text/x-python",
   "name": "python",
   "nbconvert_exporter": "python",
   "pygments_lexer": "ipython3",
   "version": "3.10.6"
  }
 },
 "nbformat": 4,
 "nbformat_minor": 5
}
