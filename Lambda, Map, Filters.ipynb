{
 "cells": [
  {
   "cell_type": "markdown",
   "id": "d208968c",
   "metadata": {},
   "source": [
    "## Map functions"
   ]
  },
  {
   "cell_type": "markdown",
   "id": "e6ef450c",
   "metadata": {},
   "source": [
    "Result of map is a collection, smaller collection in case of filters, while result of reduce of is a single variable"
   ]
  },
  {
   "cell_type": "code",
   "execution_count": 1,
   "id": "3b30006e",
   "metadata": {},
   "outputs": [
    {
     "data": {
      "text/plain": [
       "[1, 8, 27, 64, 125, 216]"
      ]
     },
     "execution_count": 1,
     "metadata": {},
     "output_type": "execute_result"
    }
   ],
   "source": [
    "def cube(num):\n",
    "    return num**3\n",
    "numbers = [1,2,3,4,5,6]\n",
    "list(map(cube,numbers))"
   ]
  },
  {
   "cell_type": "code",
   "execution_count": 11,
   "id": "7b66f390",
   "metadata": {},
   "outputs": [
    {
     "data": {
      "text/plain": [
       "[True, True, 'A', 'S', True]"
      ]
     },
     "execution_count": 11,
     "metadata": {},
     "output_type": "execute_result"
    }
   ],
   "source": [
    "def evenName(name):\n",
    "    if len(name) % 2 == 0:\n",
    "        return True\n",
    "    else:\n",
    "        return name[0]\n",
    "names = ['Zubair','Wasi','Arqam','Sajid','Moin']\n",
    "list(map(evenName,names))"
   ]
  },
  {
   "cell_type": "markdown",
   "id": "f4601ba0",
   "metadata": {},
   "source": [
    "## Filter functions"
   ]
  },
  {
   "cell_type": "markdown",
   "id": "3887d288",
   "metadata": {},
   "source": [
    "Only returns the value that is True"
   ]
  },
  {
   "cell_type": "code",
   "execution_count": 13,
   "id": "71770387",
   "metadata": {},
   "outputs": [
    {
     "data": {
      "text/plain": [
       "['Zubair', 'Wasi', 'Moin']"
      ]
     },
     "execution_count": 13,
     "metadata": {},
     "output_type": "execute_result"
    }
   ],
   "source": [
    "def evenName(name):\n",
    "    return len(name) % 2 == 0\n",
    "    \n",
    "names = ['Zubair','Wasi','Arqam','Sajid','Moin']\n",
    "list(filter(evenName,names))"
   ]
  },
  {
   "cell_type": "markdown",
   "id": "7aa57496",
   "metadata": {},
   "source": [
    "## Lambda Expressions"
   ]
  },
  {
   "cell_type": "code",
   "execution_count": 21,
   "id": "b4bdae10",
   "metadata": {},
   "outputs": [
    {
     "data": {
      "text/plain": [
       "<function __main__.<lambda>(num)>"
      ]
     },
     "execution_count": 21,
     "metadata": {},
     "output_type": "execute_result"
    }
   ],
   "source": [
    "lambda num: num**3"
   ]
  },
  {
   "cell_type": "markdown",
   "id": "b52475ad",
   "metadata": {},
   "source": [
    "This means that this is used by main function"
   ]
  },
  {
   "cell_type": "code",
   "execution_count": 22,
   "id": "29437cd2",
   "metadata": {},
   "outputs": [
    {
     "data": {
      "text/plain": [
       "27"
      ]
     },
     "execution_count": 22,
     "metadata": {},
     "output_type": "execute_result"
    }
   ],
   "source": [
    "cubes = lambda num: num**3\n",
    "cubes(3)"
   ]
  },
  {
   "cell_type": "code",
   "execution_count": 25,
   "id": "472682bd",
   "metadata": {},
   "outputs": [
    {
     "data": {
      "text/plain": [
       "[2, 4, 6, 8, 10]"
      ]
     },
     "execution_count": 25,
     "metadata": {},
     "output_type": "execute_result"
    }
   ],
   "source": [
    "numbers = [1,2,3,4,5,6,7,8,9,10]\n",
    "list(filter(lambda num: num % 2 ==0, numbers))"
   ]
  },
  {
   "cell_type": "code",
   "execution_count": 39,
   "id": "c78f5eae",
   "metadata": {},
   "outputs": [
    {
     "data": {
      "text/plain": [
       "['riabuZ', 'isaW', 'maqrA', 'dijaS', 'nioM']"
      ]
     },
     "execution_count": 39,
     "metadata": {},
     "output_type": "execute_result"
    }
   ],
   "source": [
    "list(map(lambda names: names[::-1], names))"
   ]
  },
  {
   "cell_type": "markdown",
   "id": "650d6e81",
   "metadata": {},
   "source": [
    "## Reduce Function"
   ]
  },
  {
   "cell_type": "code",
   "execution_count": 43,
   "id": "fa22fa04",
   "metadata": {},
   "outputs": [
    {
     "data": {
      "text/plain": [
       "21"
      ]
     },
     "execution_count": 43,
     "metadata": {},
     "output_type": "execute_result"
    }
   ],
   "source": [
    "arr1 = [1,2,3,4,5,6]\n",
    "import functools as ft\n",
    "ft.reduce(lambda x,y: x+y, arr1)"
   ]
  },
  {
   "cell_type": "markdown",
   "id": "5869c565",
   "metadata": {},
   "source": [
    "#### Homework"
   ]
  },
  {
   "cell_type": "markdown",
   "id": "1a18b1f7",
   "metadata": {},
   "source": [
    "Complex Implementation of Map, Filter, Reduce, super functions"
   ]
  },
  {
   "cell_type": "markdown",
   "id": "37ace8d8",
   "metadata": {},
   "source": [
    "## Quiz 2 Question 1"
   ]
  },
  {
   "cell_type": "code",
   "execution_count": 51,
   "id": "802befe5",
   "metadata": {},
   "outputs": [
    {
     "name": "stdout",
     "output_type": "stream",
     "text": [
      "Quiz 2\n",
      "2\n"
     ]
    }
   ],
   "source": [
    "class Functionality:\n",
    "    def __init__ (self, val):\n",
    "        self.val = val\n",
    "    def __add__(self,val1):\n",
    "        return Functionality(self.val+ val1.val)\n",
    "    def __sub__(self, val2):\n",
    "        return Functionality(self.val - val2.val)\n",
    "obj1 = Functionality(\"Quiz\")\n",
    "obj2 = Functionality(\" 2\")\n",
    "obj3 = obj1 + obj2\n",
    "print(obj3.val)\n",
    "obj4 = Functionality(5)\n",
    "obj5 = Functionality(3)\n",
    "obj6 = obj4 - obj5\n",
    "print(obj6.val)"
   ]
  },
  {
   "cell_type": "markdown",
   "id": "810ff0de",
   "metadata": {},
   "source": [
    "### Homework"
   ]
  },
  {
   "cell_type": "code",
   "execution_count": 1,
   "id": "9892aec0",
   "metadata": {},
   "outputs": [
    {
     "name": "stdout",
     "output_type": "stream",
     "text": [
      "[1, 4, 27, 256]\n"
     ]
    }
   ],
   "source": [
    "base = [1, 2, 3, 4]\n",
    "power = [1, 2, 3, 4]\n",
    "\n",
    "result = list(map(pow, base, power))\n",
    "print(result)"
   ]
  },
  {
   "cell_type": "code",
   "execution_count": 3,
   "id": "963d0ada",
   "metadata": {},
   "outputs": [
    {
     "name": "stdout",
     "output_type": "stream",
     "text": [
      "['Arqam', 'Obaid', 'Usama']\n"
     ]
    }
   ],
   "source": [
    "creature_names = ['Wasi', 'Arqam', 'Obaid', 'Jawad', 'Usama', 'Moin']\n",
    "print(list(filter(lambda x: x[0].lower() in 'aeiou', creature_names)))"
   ]
  },
  {
   "cell_type": "code",
   "execution_count": 5,
   "id": "45abc2a9",
   "metadata": {},
   "outputs": [
    {
     "name": "stdout",
     "output_type": "stream",
     "text": [
      "Hello, and welcome!\n"
     ]
    }
   ],
   "source": [
    "class GrandParent:\n",
    "    def __init__(self, txt):\n",
    "        self.message = txt\n",
    "    def printmessage(self):\n",
    "        print(self.message)\n",
    "    \n",
    "class Parent(GrandParent):\n",
    "    def __init__(self, txt):\n",
    "        super().__init__(txt)\n",
    "\n",
    "class Child(Parent):\n",
    "    def __init__(self, txt):\n",
    "        super().__init__(txt)\n",
    "\n",
    "x = Child(\"Hello, and welcome!\")\n",
    "\n",
    "x.printmessage()"
   ]
  },
  {
   "cell_type": "markdown",
   "id": "2667e064",
   "metadata": {},
   "source": [
    "## Quiz 3"
   ]
  },
  {
   "cell_type": "code",
   "execution_count": 1,
   "id": "74008d2b",
   "metadata": {},
   "outputs": [
    {
     "data": {
      "text/plain": [
       "15"
      ]
     },
     "execution_count": 1,
     "metadata": {},
     "output_type": "execute_result"
    }
   ],
   "source": [
    "def sumation(*args):\n",
    "    return sum(args)\n",
    "sumation(1,2,3,4,5)"
   ]
  },
  {
   "cell_type": "code",
   "execution_count": 18,
   "id": "349fdb9e",
   "metadata": {},
   "outputs": [
    {
     "name": "stdout",
     "output_type": "stream",
     "text": [
      "Name= Ronaldo\n",
      "Sports= Football\n",
      "Age= 34\n"
     ]
    }
   ],
   "source": [
    "def myFunc(**kwargs):\n",
    "    for keys, value in kwargs.items():\n",
    "        print(f\"{keys}= {value}\")\n",
    "dict1 = {\"Name\": \"Ronaldo\", \"Sports\": \"Football\", \"Age\": 34}\n",
    "\n",
    "myFunc(**dict1)\n"
   ]
  }
 ],
 "metadata": {
  "kernelspec": {
   "display_name": "Python 3 (ipykernel)",
   "language": "python",
   "name": "python3"
  },
  "language_info": {
   "codemirror_mode": {
    "name": "ipython",
    "version": 3
   },
   "file_extension": ".py",
   "mimetype": "text/x-python",
   "name": "python",
   "nbconvert_exporter": "python",
   "pygments_lexer": "ipython3",
   "version": "3.10.6"
  }
 },
 "nbformat": 4,
 "nbformat_minor": 5
}
